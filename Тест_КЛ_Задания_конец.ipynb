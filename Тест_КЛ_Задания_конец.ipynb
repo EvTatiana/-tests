{
  "nbformat": 4,
  "nbformat_minor": 0,
  "metadata": {
    "colab": {
      "provenance": []
    },
    "kernelspec": {
      "name": "python3",
      "display_name": "Python 3"
    },
    "language_info": {
      "name": "python"
    }
  },
  "cells": [
    {
      "cell_type": "markdown",
      "source": [
        "\n",
        "Найдем Idf"
      ],
      "metadata": {
        "id": "bifEByFx_1g5"
      }
    },
    {
      "cell_type": "code",
      "source": [
        "corpus_lem = [\"мама мыть рама\", \"даша мыть яблоко\", \"даша очень любить мама\"]\n",
        "words_indices = {'мама': 0, 'мыть': 1, 'рама': 2, 'даша': 3, 'яблоко': 4, 'очень': 5, 'любить': 6}"
      ],
      "metadata": {
        "id": "9EuDiVkvPcGw"
      },
      "execution_count": null,
      "outputs": []
    },
    {
      "cell_type": "code",
      "source": [
        "from nltk.corpus import stopwords\n",
        "from sklearn.feature_extraction.text import TfidfVectorizer\n",
        "\n",
        "tfidf_vectorizer = TfidfVectorizer()"
      ],
      "metadata": {
        "id": "yYX649yYOcfM"
      },
      "execution_count": null,
      "outputs": []
    },
    {
      "cell_type": "code",
      "source": [
        "from nltk import download\n",
        "download('stopwords')\n",
        "stops = stopwords.words(\"russian\")\n",
        "\n",
        "tfidf = TfidfVectorizer(\n",
        "    analyzer=\"word\", # анализировать по словам или по символам (char)\n",
        "        stop_words=stops, # передаём список стоп-слов для русского из NLTK\n",
        "    ngram_range=(1, 1)\n",
        ")"
      ],
      "metadata": {
        "id": "aMsYvk1xOW9T"
      },
      "execution_count": null,
      "outputs": []
    },
    {
      "cell_type": "code",
      "source": [
        "tfidf = tfidf_vectorizer.fit_transform(corpus_lem)\n",
        "print(tfidf)"
      ],
      "metadata": {
        "id": "vqK4O9auAcQB"
      },
      "execution_count": null,
      "outputs": []
    },
    {
      "cell_type": "code",
      "source": [
        "# импортируем класс TfidfVectorizer\n",
        "from sklearn.feature_extraction.text import TfidfVectorizer\n",
        " \n",
        "# создаем объект класса TfidfVectorizer\n",
        "tfIdfVectorizer = TfidfVectorizer()\n",
        " \n",
        "# сразу рассчитываем TF-IDF слов\n",
        "tfIdf = tfIdfVectorizer.fit_transform(corpus_lem)"
      ],
      "metadata": {
        "id": "aj_YD-5lYiML"
      },
      "execution_count": null,
      "outputs": []
    },
    {
      "cell_type": "code",
      "source": [
        "print(tfIdfVectorizer.get_feature_names_out())"
      ],
      "metadata": {
        "colab": {
          "base_uri": "https://localhost:8080/"
        },
        "id": "Rg1hxzDnYthZ",
        "outputId": "ac33b378-e61a-4eb5-aa2e-71db5d7a04c4"
      },
      "execution_count": null,
      "outputs": [
        {
          "output_type": "stream",
          "name": "stdout",
          "text": [
            "['даша' 'любить' 'мама' 'мыть' 'очень' 'рама' 'яблоко']\n"
          ]
        }
      ]
    },
    {
      "cell_type": "code",
      "source": [
        "tfIdfVectorizer.idf_"
      ],
      "metadata": {
        "colab": {
          "base_uri": "https://localhost:8080/"
        },
        "id": "YbQhL93EV1_V",
        "outputId": "a9de6764-20d8-4c4c-9079-b8ba937f0895"
      },
      "execution_count": null,
      "outputs": [
        {
          "output_type": "execute_result",
          "data": {
            "text/plain": [
              "array([1.28768207, 1.69314718, 1.28768207, 1.28768207, 1.69314718,\n",
              "       1.69314718, 1.69314718])"
            ]
          },
          "metadata": {},
          "execution_count": 31
        }
      ]
    },
    {
      "cell_type": "code",
      "source": [
        "tfIdf.shape"
      ],
      "metadata": {
        "colab": {
          "base_uri": "https://localhost:8080/"
        },
        "id": "4rFqS1rPZZxy",
        "outputId": "78cae09e-ab60-4772-8ed4-50174786c2d3"
      },
      "execution_count": null,
      "outputs": [
        {
          "output_type": "execute_result",
          "data": {
            "text/plain": [
              "(3, 7)"
            ]
          },
          "metadata": {},
          "execution_count": 23
        }
      ]
    },
    {
      "cell_type": "markdown",
      "source": [
        "Косинусное сходство"
      ],
      "metadata": {
        "id": "GBaM0JNgOKWR"
      }
    },
    {
      "cell_type": "code",
      "source": [
        "import gensim"
      ],
      "metadata": {
        "id": "vEqUHssAOvIT"
      },
      "execution_count": null,
      "outputs": []
    },
    {
      "cell_type": "code",
      "source": [
        "from scipy.spatial.distance import cosine"
      ],
      "metadata": {
        "id": "nM1hC1MfPlaE"
      },
      "execution_count": null,
      "outputs": []
    },
    {
      "cell_type": "code",
      "source": [
        "m = '/Users/marinapozidaeva/Downloads/185/model.bin'\n",
        "model = gensim.models.KeyedVectors.load_word2vec_format(m, binary=True)"
      ],
      "metadata": {
        "id": "7kHuqleTPU8C"
      },
      "execution_count": null,
      "outputs": []
    },
    {
      "cell_type": "code",
      "source": [
        "sentences = ['мама мыть рама', \"Даша мыть яблоки\", \"Даша очень любить мама\"]"
      ],
      "metadata": {
        "id": "VhkZ1jGlAMrB"
      },
      "execution_count": null,
      "outputs": []
    },
    {
      "cell_type": "code",
      "source": [
        "print(model.similarity('мама мыть рама', \"Даша мыть яблоки\", \"Даша очень любить мама\"))"
      ],
      "metadata": {
        "id": "IMhgYCRyOxEu"
      },
      "execution_count": null,
      "outputs": []
    },
    {
      "cell_type": "code",
      "source": [],
      "metadata": {
        "id": "H3sptXRTPYFv"
      },
      "execution_count": null,
      "outputs": []
    }
  ]
}