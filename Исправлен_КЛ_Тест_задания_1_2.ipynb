{
  "nbformat": 4,
  "nbformat_minor": 0,
  "metadata": {
    "colab": {
      "provenance": []
    },
    "kernelspec": {
      "name": "python3",
      "display_name": "Python 3"
    },
    "language_info": {
      "name": "python"
    }
  },
  "cells": [
    {
      "cell_type": "markdown",
      "source": [
        "\n",
        "**Задание 1**\n",
        "\n",
        "У нас есть маленький корпус: * corpus = [\"Мама мыла раму\", \"Даша мыла яблоки\", \"Даша очень любит\n",
        "маму\"]\n",
        "Напишите код, с помощью которого вы получите такой результат: [\"мама мыть рама\", \"даша мыть яблоко\", \"даша очень любить мама\"]. Положите результат в переменную corpus_lem"
      ],
      "metadata": {
        "id": "XQUDQ61E_81a"
      }
    },
    {
      "cell_type": "markdown",
      "source": [
        "Попытки через Pymorphy и Mystem"
      ],
      "metadata": {
        "id": "TpWlSmekShb4"
      }
    },
    {
      "cell_type": "code",
      "source": [
        "!pip install pymorphy2\n",
        "from pymorphy2 import MorphAnalyzer\n",
        "morph = MorphAnalyzer()\n",
        "\n",
        "corpus = [\"Мама мыла раму\", \"Даша мыла яблоки\", \"Даша очень любит маму\"]\n",
        "\n",
        "!pip install nltk\n",
        "from nltk import download\n",
        "download ('punkt')\n",
        "\n",
        "from nltk import wordpunct_tokenize\n",
        "corpus_lem = []\n",
        "def lemmatize(a_text):\n",
        "    a_tokens = wordpunct_tokenize(a_text)\n",
        "    a_lemmatized = [morph.parse(item)[0].normal_form for item in a_tokens]\n",
        "    a_lemmatized = ' '.join([token for token in a_lemmatized if token.isalpha()])\n",
        "    print(a_lemmatized)\n",
        "    corpus_lem.append((a_lemmatized))\n",
        "    return a_lemmatized"
      ],
      "metadata": {
        "id": "5X-XbNS0Thvt"
      },
      "execution_count": null,
      "outputs": []
    },
    {
      "cell_type": "code",
      "source": [
        "for str in corpus:  lemmatize(str)"
      ],
      "metadata": {
        "id": "KoeKpqUfTqhA",
        "colab": {
          "base_uri": "https://localhost:8080/"
        },
        "outputId": "3fd1db0f-04ab-4cfb-c725-ac0a1f974c04"
      },
      "execution_count": null,
      "outputs": [
        {
          "output_type": "stream",
          "name": "stdout",
          "text": [
            "мама мыло рама\n",
            "даша мыло яблоко\n",
            "даша очень любить мама\n"
          ]
        }
      ]
    },
    {
      "cell_type": "code",
      "source": [
        "corpus_lem"
      ],
      "metadata": {
        "id": "vd7uOB8XT-gC",
        "colab": {
          "base_uri": "https://localhost:8080/"
        },
        "outputId": "538454d0-6660-4ab0-a28e-fe56a16746b4"
      },
      "execution_count": null,
      "outputs": [
        {
          "output_type": "execute_result",
          "data": {
            "text/plain": [
              "['мама мыло рама', 'даша мыло яблоко', 'даша очень любить мама']"
            ]
          },
          "metadata": {},
          "execution_count": 31
        }
      ]
    },
    {
      "cell_type": "markdown",
      "source": [
        "Получилось вытащить начальную форму \"Мыть\" только заменой\n"
      ],
      "metadata": {
        "id": "EKtJ-RVNgbKH"
      }
    },
    {
      "cell_type": "code",
      "source": [
        "corpus_lem[0]=corpus_lem[0].replace('мыло', 'мыть')\n",
        "corpus_lem[1]=corpus_lem[1].replace('мыло', 'мыть')\n",
        "\n",
        "corpus_lem"
      ],
      "metadata": {
        "id": "3dn5weQuUIV5",
        "colab": {
          "base_uri": "https://localhost:8080/"
        },
        "outputId": "e8fb8baa-bb47-439d-e8ed-07bcc6ac85d5"
      },
      "execution_count": null,
      "outputs": [
        {
          "output_type": "execute_result",
          "data": {
            "text/plain": [
              "['мама мыть рама', 'даша мыть яблоко', 'даша очень любить мама']"
            ]
          },
          "metadata": {},
          "execution_count": 32
        }
      ]
    },
    {
      "cell_type": "markdown",
      "source": [
        "И снова попытка выбрать Мыть\n",
        "Через Mystem"
      ],
      "metadata": {
        "id": "37aOVNeXUrxb"
      }
    },
    {
      "cell_type": "code",
      "source": [
        "!pip install pymystem3==0.1.10\n",
        "!wget http://download.cdn.yandex.net/mystem/mystem-3.0-linux3.1-64bit.tar.gz\n",
        "!tar -xvf mystem-3.0-linux3.1-64bit.tar.gz\n",
        "!cp mystem /root/.local/bin/mystem\n",
        "from pymystem3 import Mystem\n",
        "m = Mystem()\n"
      ],
      "metadata": {
        "id": "LxdgU2bYad6D"
      },
      "execution_count": null,
      "outputs": []
    },
    {
      "cell_type": "code",
      "source": [
        "m.analyze('Даша мыла яблоко') # но дальше придумать не смогла"
      ],
      "metadata": {
        "colab": {
          "base_uri": "https://localhost:8080/"
        },
        "id": "vYJdNJOhhDip",
        "outputId": "5052c8ff-45c9-4dfa-8113-09e9d5b49bb5"
      },
      "execution_count": null,
      "outputs": [
        {
          "output_type": "execute_result",
          "data": {
            "text/plain": [
              "[{'analysis': [{'lex': 'даша', 'wt': 1, 'gr': 'S,имя,жен,од=им,ед'}],\n",
              "  'text': 'Даша'},\n",
              " {'text': ' '},\n",
              " {'analysis': [{'lex': 'мыло',\n",
              "    'wt': 0.5584790111,\n",
              "    'gr': 'S,сред,неод=(вин,мн|род,ед|им,мн)'}],\n",
              "  'text': 'мыла'},\n",
              " {'text': ' '},\n",
              " {'analysis': [{'lex': 'яблоко', 'wt': 1, 'gr': 'S,сред,неод=(вин,ед|им,ед)'}],\n",
              "  'text': 'яблоко'},\n",
              " {'text': '\\n'}]"
            ]
          },
          "metadata": {},
          "execution_count": 21
        }
      ]
    },
    {
      "cell_type": "code",
      "source": [
        "m.analyze('Мама мыла раму')"
      ],
      "metadata": {
        "colab": {
          "base_uri": "https://localhost:8080/"
        },
        "id": "3FtTFGY8hgb-",
        "outputId": "a3debe21-7793-4006-eb62-f922ccc76508"
      },
      "execution_count": null,
      "outputs": [
        {
          "output_type": "execute_result",
          "data": {
            "text/plain": [
              "[{'analysis': [{'lex': 'мама', 'wt': 1, 'gr': 'S,жен,од=им,ед'}],\n",
              "  'text': 'Мама'},\n",
              " {'text': ' '},\n",
              " {'analysis': [{'lex': 'мыть',\n",
              "    'wt': 0.4415209889,\n",
              "    'gr': 'V,несов,пе=прош,ед,изъяв,жен'}],\n",
              "  'text': 'мыла'},\n",
              " {'text': ' '},\n",
              " {'analysis': [{'lex': 'рама', 'wt': 0.9993591309, 'gr': 'S,жен,неод=вин,ед'}],\n",
              "  'text': 'раму'},\n",
              " {'text': '\\n'}]"
            ]
          },
          "metadata": {},
          "execution_count": 22
        }
      ]
    },
    {
      "cell_type": "markdown",
      "source": [
        "\n",
        "\n",
        "\n",
        "**Задание 2** \n",
        "\n",
        "Продолжаем. \n",
        "\n",
        "Дополните код ниже, чтобы получить словарь такого * вида: {'мама': 0, 'мыть': 1, 'рама': 2, 'даша': 3, 'яблоко': 4, 'очень': 5, 'любить': 6}\n",
        "corpus_tokenized = [sentence.split() for sentence in corpus_lem]\n",
        "words_indices = {}\n",
        "for sentence in corpus_tokenized:\n",
        "your code here"
      ],
      "metadata": {
        "id": "8e2bOdsRADON"
      }
    },
    {
      "cell_type": "markdown",
      "source": [
        "Задание 2. \n",
        "\n",
        "Исправленный вариант"
      ],
      "metadata": {
        "id": "s03Otwjsda3l"
      }
    },
    {
      "cell_type": "code",
      "source": [
        "corpus_lem = [\"мама мыть рама\", \"даша мыть яблоко\", \"даша очень любить мама\"]\n",
        "\n",
        "corpus_tokenized = [sentence.split() for sentence in corpus_lem] \n",
        "words_indices = {}  \n",
        "number = 0\n",
        "for sentence in corpus_tokenized:\n",
        "  for word in sentence:\n",
        "    if not (word in words_indices):\n",
        "      words_indices[word] = number\n",
        "      number = number+1\n",
        "  \n",
        "words_indices"
      ],
      "metadata": {
        "id": "GTHiacO58Br5",
        "colab": {
          "base_uri": "https://localhost:8080/"
        },
        "outputId": "cc508fa2-2404-41c6-e71e-8acf3b54dd88"
      },
      "execution_count": null,
      "outputs": [
        {
          "output_type": "execute_result",
          "data": {
            "text/plain": [
              "{'мама': 0,\n",
              " 'мыть': 1,\n",
              " 'рама': 2,\n",
              " 'даша': 3,\n",
              " 'яблоко': 4,\n",
              " 'очень': 5,\n",
              " 'любить': 6}"
            ]
          },
          "metadata": {},
          "execution_count": 3
        }
      ]
    }
  ]
}